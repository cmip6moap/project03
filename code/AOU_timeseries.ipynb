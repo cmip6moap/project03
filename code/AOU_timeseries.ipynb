from itertools import chain
from glob import glob

import matplotlib.pyplot as plt
import xarray as xr
import numpy as np
import seawater as sw


# READ files for oxygen, piControl run
dir_o2 = '/badc/cmip6/data/CMIP6/CMIP/MOHC/UKESM1-0-LL/piControl/r1i1p1f2/Omon/o2/gn/latest'
dataset_o2 = xr.open_mfdataset(dir_o2 + '/o2_Omon_UKESM1-0-LL_piControl_r1i1p1f2_gn_196001-199912.nc')

# READ files for temperature, piControl run
dir_T = '/badc/cmip6/data/CMIP6/CMIP/MOHC/UKESM1-0-LL/piControl/r1i1p1f2/Omon/thetao/gn/latest'
dataset_T = xr.open_mfdataset(dir_T + '/thetao_Omon_UKESM1-0-LL_piControl_r1i1p1f2_gn_196001-199912.nc')

# READ files for salinity, piControl run
dir_S = '/badc/cmip6/data/CMIP6/CMIP/MOHC/UKESM1-0-LL/piControl/r1i1p1f2/Omon/so/gn/latest'
dataset_S = xr.open_mfdataset(dir_S + '/so_Omon_UKESM1-0-LL_piControl_r1i1p1f2_gn_196001-199912.nc')

# If you want assign variables for simplicity (you do not need to)
lon = dataset_o2['longitude']
lat = dataset_o2['latitude']
oxygen = dataset_o2['o2'][:,:,:,:]
time = dataset_o2['time']
T = dataset_T['thetao'][:,:,:,:]
S = dataset_S['so'][:,:,:,:]
depth = dataset_S['lev']

# function Estimate the saturated oxygen
def o2sat(t,s):
    # COMPUTE_OXSAT:  compute oxygen saturation from temperature and salinity
    # Oxygen saturation value is the volume of oxygen gas absorbed from humidity-saturated
    # air at a total pressure of one atmosphere, per unit volume of the liquid at the temperature
    # of measurement (ml/l)
    
    oA0=  2.00907;
    oA1=  3.22014; 
    oA2=  4.05010; 
    oA3=  4.94457; 
    oA4= -2.56847E-1; 
    oA5=  3.88767; 
    oB0= -6.24523E-3; 
    oB1= -7.37614E-3; 
    oB2= -1.03410E-2; 
    oB3= -8.17083E-3; 
    oC0= -4.88682E-7;

    aTT = 298.15-t;
    aTK = 273.15+t;
    aTS = np.log(aTT/aTK);
    aTS2= aTS*aTS; 
    aTS3= aTS2*aTS;
    aTS4= aTS3*aTS; 
    aTS5= aTS4*aTS;
    
    ocnew= np.exp(oA0 + oA1*aTS + oA2*aTS2 + oA3*aTS3 + oA4*aTS4 + oA5*aTS5 + \
                  s*(oB0 + oB1*aTS + oB2*aTS2 + oB3*aTS3) + oC0*(s*s));
    
    # to units mol/m^3
    oxsat = ocnew/22391.6*1000.0;
    
    return oxsat

def o2sat2(T,S):
    T1 = (T + 273.15) / 100;
    # o2 from mol m-3 to UM/kg assume a density of 1025
    # but we can refine that estimating the actual density
    # o2_kg = ( o2 / 1025 ) *1E6
    
    osat = -177.7888 + 255.5907 / T1 + 146.4813 * np.log(T1) - 22.2040 * T1;
    osat = osat + S * (-0.037362 + T1 * (0.016504 - 0.0020564 * T1));
    osat = np.exp(osat);
    # o2_sat from ml/kg to mol/m^-3  
    # assume a density of 1025
    # but we can refine that estimating the actual density
    osat = osat *  1025 / (22.392 *1000);
    return osat

oxygen_sat2 = o2sat2(T,S)
oxygen_sat = o2sat(T,S)
oxygen_sat_per =  (oxygen/oxygen_sat)*100

AOU = oxygen_sat - oxygen

# check if is consistent with o2sat from file
dir_sat = '/badc/cmip6/data/CMIP6/CMIP/MOHC/UKESM1-0-LL/piControl/r1i1p1f2/Omon/o2sat/gn/latest'
dataset_sat = xr.open_mfdataset(dir_sat + '/o2sat_Omon_UKESM1-0-LL_piControl_r1i1p1f2_gn_196001-199912.nc')
ox_sat_OR = dataset_sat['o2sat'][1,1,:,:]
# I think there is something wrong with their units in the o2sat
# they are probably in mmol/m^3 rather than mol/m^3

# volume averaging of AOU for time-series
dir_vol = '/badc/cmip6/data/CMIP6/CMIP/MOHC/UKESM1-0-LL/piControl/r1i1p1f2/Omon/volcello/gn/latest'
dataset_vol = xr.open_mfdataset(dir_vol + '/volcello_Omon_UKESM1-0-LL_piControl_r1i1p1f2_gn_196001-199912.nc')
vol_ocean = dataset_vol['volcello'][:,:,:,:]
#AOU_vol = np.sum(vol_ocean * AOU) #/ np.sum(vol_ocean) 
AOU_vol = (vol_ocean * AOU).sum(dim=['lev','i','j'])
