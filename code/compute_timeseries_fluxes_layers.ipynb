{
 "cells": [
  {
   "cell_type": "code",
   "execution_count": 3,
   "metadata": {},
   "outputs": [
    {
     "name": "stdout",
     "output_type": "stream",
     "text": [
      "Installed kernelspec cmip6 in /home/users/fdmv/.local/share/jupyter/kernels/cmip6\n",
      "Installed cmip6 Jupyter kernel for the hackathon\n"
     ]
    }
   ],
   "source": [
    "!/gws/pw/j05/cop26_hackathons/bristol/install-kernel"
   ]
  },
  {
   "cell_type": "code",
   "execution_count": 2,
   "metadata": {},
   "outputs": [],
   "source": [
    "def compute_time_average_fluxes_master(expc_data_loc,fluxes_data_name,timeslice_times):\n",
    "# VERSION 1: def compute_time_average_fluxes_master(expc_data_loc,flux_exp_data_name,flux_transf_data_name,timeslice_times):\n",
    "    \n",
    "    # INPUTS - Version 1\n",
    "\t# expc_data_loc - full path to netcdf file\n",
    "\t# flux_exp_data_name - netcdf fluxt at export depth file name\n",
    "\t# flux_transf_data_name - netcdf flux at transfer depth file name\n",
    "\t# timeslices_times - start and finish times of timesclice averaging in pairs, e.g., [\"1960\",\"1970\"] or [\"1960\",\"1970\",\"1980\",\"1990\"]\n",
    "\n",
    "    # INPUTS - Version 2\n",
    "\t# expc_data_loc - full path to netcdf file\n",
    "\t# fluxes_data_name - netcdf flux at all depths file name\n",
    "\t# timeslices_times - start and finish times of timesclice averaging in pairs, e.g., [\"1960\",\"1970\"] or [\"1960\",\"1970\",\"1980\",\"1990\"]\n",
    "    \n",
    "    # OUTPUTS - Version 1\n",
    "\t# flux_exp_timeseries_flux_exp_data_name.nc\n",
    "    # flux_transf_timeseries_flux_transf_data_name.nc\n",
    "\t# flux_exp_timeslice_start_timeslice_finish_flux_exp_data_name.nc\n",
    "    # flux_transf_timeslice_start_timeslice_finish_flux_transf_data_name.nc\n",
    "    \n",
    "    # OUTPUTS - Version 2\n",
    "\t# fluxes_timeseries_flux_exp_data_name.nc\n",
    "\t# fluxes_timeslice_start_timeslice_finish_flux_exp_data_name.nc\n",
    "\n",
    "        \n",
    "        print('>>> loading flux and area data')\n",
    "        ### load data\n",
    "#        flux_exp=xr.open_mfdataset(expc_data_loc+flux_exp_data_name)\n",
    "#        flux_transf=xr.open_mfdataset(expc_data_loc+flux_transf_data_name)\n",
    "        fluxes = xr.open_mfdataset(expc_data_loc+fluxes_data_name)\n",
    "        area = xr.open_mfdataset('/badc/cmip6/data/CMIP6/CMIP/MOHC/UKESM1-0-LL/piControl/r1i1p1f2/Ofx/areacello/gn/latest/areacello_Ofx_UKESM1-0-LL_piControl_r1i1p1f2_gn.nc')\n",
    "\n",
    "        print('>>> calculating global annual averages for fluxes (sloooow)')\n",
    "        ### annual averaging\n",
    "        # compute here to save memory in following steps\n",
    "#        flux_exp_data=flux_exp.rolling(time=12, center=True).mean().compute()\n",
    "#        flux_transf_data=flux_transf.rolling(time=12, center=True).mean().compute()\n",
    "        \n",
    "        fluxes_data=fluxes['expc']\n",
    "        #fluxes_data_mean=fluxes_data.rolling(time=12, center=True).mean().compute()\n",
    "        fluxes_data_mean=fluxes_data.rolling(time=12, center=True).mean().compute()\n",
    "        \n",
    "        level = fluxes['lev']\n",
    "        level_data = level.compute()\n",
    "    \n",
    "        # computing fractional area correction\n",
    "        area_data = area['areacello']\n",
    "        area_data.compute()\n",
    "        weights = (area_data/(area_data.sum(dim=['i','j']))).compute()\n",
    "        \n",
    "        # convert to global mean timeseries\n",
    "#        weighted_flux_exp_data = flux_exp_data.weighted(weights)\n",
    "#        weighted_flux_transf_data = flux_transf_data.weighted(weights)\n",
    "\n",
    "        weighted_fluxes_data_mean = (fluxes_data_mean*weights).compute()\n",
    "        \n",
    "        print('>>> output flux data - 1')\n",
    "        # convert to global mean timeseries\n",
    "#        flux_exp_timeseries=weighted_flux_exp_data.mean(dim=['i','j'])\n",
    "#        flux_exp_timeseries.to_netcdf('timeseries_'+flux_exp_data_name)\n",
    "#        flux_transf_timeseries=weighted_flux_transf_data.mean(dim=['i','j'])\n",
    "#        flux_transf_timeseries.to_netcdf('timeseries_'+flux_transf_data_name)\n",
    "\n",
    "        fluxes_timeseries=weighted_fluxes_data_mean.mean(dim=['i','j'])\n",
    "        fluxes_timeseries.to_netcdf('timeseries_'+fluxes_data_name)\n",
    "        \n",
    "        print('>>> output flux data - 2')\n",
    "        # get flux efficiency at each layer\n",
    "        layer_ratio_fluxes_timeseries = fluxes_timeseries*0\n",
    "        for depth in range(1,len(level_data)-1):\n",
    "            layer_ratio_fluxes_timeseries[:,depth-1]=fluxes_timeseries[:,depth]/fluxes_timeseries[:,depth-1]\n",
    "            \n",
    "        layer_ratio_fluxes_timeseries.to_netcdf('layer_ratio_timeseries_'+fluxes_data_name)\n",
    "        \n",
    "        print('>>> output flux data - 3')\n",
    "        # get timeslice data\n",
    "        for n in range(0,len(timeslice_times),2):\n",
    "            fluxes_timeslice=fluxes_data_mean.sel(time=slice(timeslice_times[n], timeslice_times[n+1])).mean(dim='time')\n",
    "            fluxes_timeslice.to_netcdf('timeslice_'+timeslice_times[n]+'_'+timeslice_times[n+1]+fluxes_data_name)\n",
    "#            flux_exp_timeslice=flux_exp.sel(time=slice(timeslice_times[n], timeslice_times[n+1])).mean(dim='time')\n",
    "#            flux_exp_timeslice.to_netcdf('timeslice_'+timeslice_times[n]+'_'+timeslice_times[n+1]+flux_exp_data_name)\n",
    "#            flux_transf_timeslice=flux_transf.sel(time=slice(timeslice_times[n], timeslice_times[n+1])).mean(dim='time')\n",
    "#            flux_transf_timeslice.to_netcdf('timeslice_'+timeslice_times[n]+'_'+timeslice_times[n+1]+flux_transf_data_name)\n",
    "        print('>>> Done! :)')\n",
    "###### END #####  "
   ]
  },
  {
   "cell_type": "code",
   "execution_count": null,
   "metadata": {},
   "outputs": [
    {
     "name": "stdout",
     "output_type": "stream",
     "text": [
      ">>> loading flux and area data\n",
      ">>> calculating global annual averages for fluxes (sloooow)\n"
     ]
    }
   ],
   "source": [
    "# Loading modules, etc\n",
    "from itertools import chain\n",
    "from glob import glob\n",
    "\n",
    "import matplotlib.pyplot as plt\n",
    "import xarray as xr\n",
    "\n",
    "#compute_time_average_fluxes_master('/home/users/fdmv/OthersCode/','flux_depth_exp_interp_expc_Omon_UKESM1-0-LL_piControl_r1i1p1f2_gn_196001-199912.nc','flux_depth_transf_interp_expc_Omon_UKESM1-0-LL_piControl_r1i1p1f2_gn_196001-199912.nc',[\"1960\",\"1970\"])\n",
    "compute_time_average_fluxes_master('/gws/pw/j05/cop26_hackathons/bristol/project03/input_nc/UKESM1-0-LL/','expc_Omon_UKESM1-0-LL_piControl_r1i1p1f2_gn_196001-199912.nc',[\"1960\",\"1970\"])"
   ]
  },
  {
   "cell_type": "code",
   "execution_count": null,
   "metadata": {},
   "outputs": [],
   "source": []
  }
 ],
 "metadata": {
  "kernelspec": {
   "display_name": "cmip6",
   "language": "python",
   "name": "cmip6"
  },
  "language_info": {
   "codemirror_mode": {
    "name": "ipython",
    "version": 3
   },
   "file_extension": ".py",
   "mimetype": "text/x-python",
   "name": "python",
   "nbconvert_exporter": "python",
   "pygments_lexer": "ipython3",
   "version": "3.8.10"
  }
 },
 "nbformat": 4,
 "nbformat_minor": 4
}
