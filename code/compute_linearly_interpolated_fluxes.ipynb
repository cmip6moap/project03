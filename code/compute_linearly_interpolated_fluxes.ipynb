{
 "cells": [
  {
   "cell_type": "code",
   "execution_count": 3,
   "metadata": {},
   "outputs": [
    {
     "name": "stdout",
     "output_type": "stream",
     "text": [
      "Installed kernelspec cmip6 in /home/users/fdmv/.local/share/jupyter/kernels/cmip6\n",
      "Installed cmip6 Jupyter kernel for the hackathon\n"
     ]
    }
   ],
   "source": [
    "!/gws/pw/j05/cop26_hackathons/bristol/install-kernel"
   ]
  },
  {
   "cell_type": "code",
   "execution_count": 7,
   "metadata": {},
   "outputs": [],
   "source": [
    "def compute_linear_interp_master(expc_data_loc,expc_data_name,depth_exp,depth_transf):\n",
    "\n",
    "\t# INPUTS\n",
    "\t# expc_data_loc - full path to netcdf file\n",
    "\t# expc_data_name - netcdf file name\n",
    "\t# depth_exp: depth of export (e.g. 100m)\n",
    "\t# depth_transf: depth of export (e.g. 1000m)\n",
    "\n",
    "\t# OUTPUTS\n",
    "\t# flux_exp_interp.nc: export flux at \"depth_exp\" metres\n",
    "\t# flux_transf_interp.nc: transfer flux at \"depth_flux\" metres\n",
    "\n",
    "\n",
    "    print('>>> loading data')\n",
    "    ### Loading data\n",
    "    dataset=xr.open_mfdataset(expc_data_loc+expc_data_name)\n",
    "\n",
    "    ### getting arrays\n",
    "    # Computing linearly interpolated fluxes\n",
    "\n",
    "#    depth_exp=100 # export depth of interest (in metres)\n",
    "#    depth_transf=1000 # transfer depth of interest (in metres)\n",
    "\n",
    "    print('>>> interpolating data (sloooow)')\n",
    "    ### annual averaging\n",
    "    lev_exp_prev = dataset.sel(lev=depth_exp,method=\"nearest\").compute()['lev'] # nearest export level above z = depth\n",
    "    lev_exp_next = dataset.sel(lev=depth_exp,method=\"backfill\").compute()['lev'] # nearest export level below z = depth\n",
    "\n",
    "    lev_transf_prev = dataset.sel(lev=depth_transf,method=\"nearest\").compute()['lev'] # nearest transfer level above z = depth\n",
    "    lev_transf_next = dataset.sel(lev=depth_transf,method=\"backfill\").compute()['lev'] # nearest transfer level below z = depth\n",
    "\n",
    "    flux_exp_prev = dataset.sel(lev=depth_exp, method=\"nearest\").compute()['expc'] # export flux at nearest level above z = depth\n",
    "    flux_exp_next = dataset.sel(lev=depth_exp, method=\"backfill\").compute()['expc'] # export flux at nearest level below z = depth\n",
    "\n",
    "    flux_transf_prev = dataset.sel(lev=depth_transf, method=\"nearest\").compute()['expc'] # tranfer flux at nearest level above z = depth\n",
    "    flux_transf_next = dataset.sel(lev=depth_transf, method=\"backfill\").compute()['expc'] # transfer flux at nearest level below z = depth\n",
    "\n",
    "    # computing the linearest interpolated flux at z= depth\n",
    "    interp_par_exp = (depth_exp - lev_exp_prev)/(lev_exp_next - lev_exp_prev)\n",
    "    interp_par_transf = (depth_transf - lev_transf_prev)/(lev_transf_next - lev_transf_prev)\n",
    "    flux_exp_interp = (flux_exp_prev*(1-interp_par_exp) + flux_exp_next*interp_par_exp)\n",
    "    flux_transf_interp = (flux_transf_prev*(1-interp_par_transf) + flux_transf_next*interp_par_transf)\n",
    "    \n",
    "    print('>>> output data')\n",
    "    flux_exp_interp.to_netcdf('flux_'+str(depth_exp)+'m'+'_interp_'+expc_data_name)\n",
    "    flux_transf_interp.to_netcdf('flux_'+str(depth_transf)+'m'+'_interp_'+expc_data_name)\n",
    "    \n",
    "###### END ######"
   ]
  },
  {
   "cell_type": "code",
   "execution_count": 6,
   "metadata": {},
   "outputs": [
    {
     "name": "stdout",
     "output_type": "stream",
     "text": [
      ">>> loading data\n",
      ">>> interpolating data (sloooow)\n",
      ">>> output data\n"
     ]
    }
   ],
   "source": [
    "# Loading modules, etc\n",
    "from itertools import chain\n",
    "from glob import glob\n",
    "\n",
    "import matplotlib.pyplot as plt\n",
    "import xarray as xr\n",
    "\n",
    "compute_linear_interp_master('/gws/pw/j05/cop26_hackathons/bristol/project03/input_nc/UKESM1-0-LL/','expc_Omon_UKESM1-0-LL_piControl_r1i1p1f2_gn_196001-199912.nc',100,1000)"
   ]
  },
  {
   "cell_type": "code",
   "execution_count": 3,
   "metadata": {},
   "outputs": [],
   "source": []
  },
  {
   "cell_type": "code",
   "execution_count": null,
   "metadata": {},
   "outputs": [],
   "source": []
  }
 ],
 "metadata": {
  "kernelspec": {
   "display_name": "cmip6",
   "language": "python",
   "name": "cmip6"
  },
  "language_info": {
   "codemirror_mode": {
    "name": "ipython",
    "version": 3
   },
   "file_extension": ".py",
   "mimetype": "text/x-python",
   "name": "python",
   "nbconvert_exporter": "python",
   "pygments_lexer": "ipython3",
   "version": "3.8.10"
  }
 },
 "nbformat": 4,
 "nbformat_minor": 4
}
